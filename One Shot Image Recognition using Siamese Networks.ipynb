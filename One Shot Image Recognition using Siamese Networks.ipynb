{
  "nbformat": 4,
  "nbformat_minor": 0,
  "metadata": {
    "kernelspec": {
      "name": "python3",
      "display_name": "Python 3"
    },
    "language_info": {
      "codemirror_mode": {
        "name": "ipython",
        "version": 3
      },
      "file_extension": ".py",
      "mimetype": "text/x-python",
      "name": "python",
      "nbconvert_exporter": "python",
      "pygments_lexer": "ipython3",
      "version": "3.6.5"
    },
    "colab": {
      "name": "One_shot_learning_on_omniglot.ipynb",
      "provenance": [],
      "collapsed_sections": []
    },
    "accelerator": "GPU"
  },
  "cells": [
    {
      "cell_type": "code",
      "metadata": {
        "id": "C9NVrwkzPh7_"
      },
      "source": [
        "%matplotlib inline\n",
        "import os\n",
        "import cv2\n",
        "import sys\n",
        "import time\n",
        "import pickle\n",
        "import numpy as np\n",
        "import pandas as pd\n",
        "import tensorflow as tf\n",
        "import numpy.random as rng\n",
        "from imageio import imread\n",
        "from keras.models import Model\n",
        "from keras import backend as K\n",
        "import matplotlib.pyplot as plt\n",
        "from sklearn.utils import shuffle\n",
        "from keras.optimizers import Adam\n",
        "from keras.regularizers import l2\n",
        "from keras.models import Sequential\n",
        "from keras.engine.topology import Layer\n",
        "from keras.layers.merge import Concatenate\n",
        "from keras.initializers import glorot_uniform\n",
        "from keras.layers.pooling import MaxPooling2D\n",
        "from keras.layers.core import Lambda, Flatten, Dense\n",
        "from keras.layers.normalization import BatchNormalization\n",
        "from keras.layers import Conv2D, ZeroPadding2D, Activation, Input, concatenate"
      ],
      "execution_count": 25,
      "outputs": []
    },
    {
      "cell_type": "code",
      "metadata": {
        "id": "HmHVlUFzQ-h-",
        "outputId": "9fc711c8-10e7-4a8d-f1cc-9cdfcc1227e3",
        "colab": {
          "base_uri": "https://localhost:8080/"
        }
      },
      "source": [
        "!wget https://raw.githubusercontent.com/brendenlake/omniglot/master/python/images_background.zip\n",
        "!wget https://raw.githubusercontent.com/brendenlake/omniglot/master/python/images_evaluation.zip\n",
        "!unzip images_background.zip >/dev/null\n",
        "!unzip images_evaluation.zip >/dev/null\n",
        "!rm images_background.zip images_evaluation.zip\n",
        "!mkdir data\n",
        "!mkdir weights"
      ],
      "execution_count": 26,
      "outputs": [
        {
          "output_type": "stream",
          "text": [
            "--2020-11-14 08:29:07--  https://raw.githubusercontent.com/brendenlake/omniglot/master/python/images_background.zip\n",
            "Resolving raw.githubusercontent.com (raw.githubusercontent.com)... 151.101.0.133, 151.101.64.133, 151.101.128.133, ...\n",
            "Connecting to raw.githubusercontent.com (raw.githubusercontent.com)|151.101.0.133|:443... connected.\n",
            "HTTP request sent, awaiting response... 200 OK\n",
            "Length: 9464212 (9.0M) [application/zip]\n",
            "Saving to: ‘images_background.zip’\n",
            "\n",
            "\rimages_background.z   0%[                    ]       0  --.-KB/s               \rimages_background.z 100%[===================>]   9.03M  --.-KB/s    in 0.07s   \n",
            "\n",
            "2020-11-14 08:29:07 (122 MB/s) - ‘images_background.zip’ saved [9464212/9464212]\n",
            "\n",
            "--2020-11-14 08:29:07--  https://raw.githubusercontent.com/brendenlake/omniglot/master/python/images_evaluation.zip\n",
            "Resolving raw.githubusercontent.com (raw.githubusercontent.com)... 151.101.0.133, 151.101.64.133, 151.101.128.133, ...\n",
            "Connecting to raw.githubusercontent.com (raw.githubusercontent.com)|151.101.0.133|:443... connected.\n",
            "HTTP request sent, awaiting response... 200 OK\n",
            "Length: 6462886 (6.2M) [application/zip]\n",
            "Saving to: ‘images_evaluation.zip’\n",
            "\n",
            "images_evaluation.z 100%[===================>]   6.16M  --.-KB/s    in 0.07s   \n",
            "\n",
            "2020-11-14 08:29:07 (91.2 MB/s) - ‘images_evaluation.zip’ saved [6462886/6462886]\n",
            "\n",
            "replace images_background/Alphabet_of_the_Magi/character01/0709_01.png? [y]es, [n]o, [A]ll, [N]one, [r]ename: a\n",
            "error:  invalid response [a]\n",
            "replace images_background/Alphabet_of_the_Magi/character01/0709_01.png? [y]es, [n]o, [A]ll, [N]one, [r]ename: A\n",
            "replace images_evaluation/Angelic/character01/0965_01.png? [y]es, [n]o, [A]ll, [N]one, [r]ename: A\n",
            "mkdir: cannot create directory ‘data’: File exists\n",
            "mkdir: cannot create directory ‘weights’: File exists\n"
          ],
          "name": "stdout"
        }
      ]
    },
    {
      "cell_type": "code",
      "metadata": {
        "id": "GyL7Odl-Ph8F"
      },
      "source": [
        "train_folder = \"./images_background/\"\n",
        "val_folder = './images_evaluation/'\n",
        "save_path = './data/'"
      ],
      "execution_count": 27,
      "outputs": []
    },
    {
      "cell_type": "code",
      "metadata": {
        "id": "b9_nW22UPh8H"
      },
      "source": [
        "def loadimgs(path,n = 0):\n",
        "    '''\n",
        "    path => Path of train directory or test directory\n",
        "    '''\n",
        "    X =[]\n",
        "    y = []\n",
        "    cat_dict = {}\n",
        "    lang_dict = {}\n",
        "    curr_y = n\n",
        "    # we load every alphabet seperately so we can isolate them later\n",
        "    for alphabet in os.listdir(path):\n",
        "        print(\"loading alphabet: \" + alphabet)\n",
        "        lang_dict[alphabet] = [curr_y,None]\n",
        "        alphabet_path = os.path.join(path,alphabet)\n",
        "        # every letter/category has it's own column in the array, so  load seperately\n",
        "        for letter in os.listdir(alphabet_path):\n",
        "            cat_dict[curr_y] = (alphabet, letter)\n",
        "            category_images=[]\n",
        "            letter_path = os.path.join(alphabet_path, letter)\n",
        "            # read all the images in the current category\n",
        "            for filename in os.listdir(letter_path):\n",
        "                image_path = os.path.join(letter_path, filename)\n",
        "                image = imread(image_path)\n",
        "                category_images.append(image)\n",
        "                y.append(curr_y)\n",
        "            try:\n",
        "                X.append(np.stack(category_images))\n",
        "            # edge case  - last one\n",
        "            except ValueError as e:\n",
        "                print(e)\n",
        "                print(\"error - category_images:\", category_images)\n",
        "            curr_y += 1\n",
        "            lang_dict[alphabet][1] = curr_y - 1\n",
        "    y = np.vstack(y)\n",
        "    X = np.stack(X)\n",
        "    return X,y,lang_dict"
      ],
      "execution_count": 28,
      "outputs": []
    },
    {
      "cell_type": "markdown",
      "metadata": {
        "id": "IFuj8prgPh8K"
      },
      "source": [
        "### Loading the train images into tensors"
      ]
    },
    {
      "cell_type": "code",
      "metadata": {
        "id": "9sTAGXpcPh8N",
        "outputId": "856cb022-a31c-47a9-af3c-e833710f9091",
        "colab": {
          "base_uri": "https://localhost:8080/"
        }
      },
      "source": [
        "X,y,c=loadimgs(train_folder)"
      ],
      "execution_count": 29,
      "outputs": [
        {
          "output_type": "stream",
          "text": [
            "loading alphabet: Hebrew\n",
            "loading alphabet: Armenian\n",
            "loading alphabet: Malay_(Jawi_-_Arabic)\n",
            "loading alphabet: Japanese_(katakana)\n",
            "loading alphabet: Anglo-Saxon_Futhorc\n",
            "loading alphabet: Burmese_(Myanmar)\n",
            "loading alphabet: Grantha\n",
            "loading alphabet: Asomtavruli_(Georgian)\n",
            "loading alphabet: Tagalog\n",
            "loading alphabet: Cyrillic\n",
            "loading alphabet: Futurama\n",
            "loading alphabet: Ojibwe_(Canadian_Aboriginal_Syllabics)\n",
            "loading alphabet: Inuktitut_(Canadian_Aboriginal_Syllabics)\n",
            "loading alphabet: Arcadian\n",
            "loading alphabet: Alphabet_of_the_Magi\n",
            "loading alphabet: Tifinagh\n",
            "loading alphabet: Early_Aramaic\n",
            "loading alphabet: Japanese_(hiragana)\n",
            "loading alphabet: Gujarati\n",
            "loading alphabet: Mkhedruli_(Georgian)\n",
            "loading alphabet: Latin\n",
            "loading alphabet: Balinese\n",
            "loading alphabet: Bengali\n",
            "loading alphabet: Korean\n",
            "loading alphabet: Greek\n",
            "loading alphabet: Blackfoot_(Canadian_Aboriginal_Syllabics)\n",
            "loading alphabet: Braille\n",
            "loading alphabet: Sanskrit\n",
            "loading alphabet: N_Ko\n",
            "loading alphabet: Syriac_(Estrangelo)\n"
          ],
          "name": "stdout"
        }
      ]
    },
    {
      "cell_type": "code",
      "metadata": {
        "id": "XBE0wcVjB6WV",
        "outputId": "02c28601-b393-44ba-9884-ca5bc18cd695",
        "colab": {
          "base_uri": "https://localhost:8080/"
        }
      },
      "source": [
        "print(\"We'll be using 964 characters for training the model out of 1632 characters,\\n and each character has 20 samples per character \\nhaving dimensions of 105x105, therefore its shape will be,\\n \", X.shape, \"\\n\\nAnd for each sample, there's the category (964*20), therefore its dimensions are:\\n\",y.shape)"
      ],
      "execution_count": 30,
      "outputs": [
        {
          "output_type": "stream",
          "text": [
            "We'll be using 964 characters for training the model out of 1632 characters,\n",
            " and each character has 20 samples per character \n",
            "having dimensions of 105x105, therefore its shape will be,\n",
            "  (964, 20, 105, 105) \n",
            "\n",
            "And for each sample, there's the category (964*20), therefore its dimensions are:\n",
            " (19280, 1)\n"
          ],
          "name": "stdout"
        }
      ]
    },
    {
      "cell_type": "code",
      "metadata": {
        "id": "Gq2biPXlGH9s",
        "outputId": "28ef67fd-25d9-43c3-a196-1571507a2ef5",
        "colab": {
          "base_uri": "https://localhost:8080/"
        }
      },
      "source": [
        "c.keys()"
      ],
      "execution_count": 31,
      "outputs": [
        {
          "output_type": "execute_result",
          "data": {
            "text/plain": [
              "dict_keys(['Hebrew', 'Armenian', 'Malay_(Jawi_-_Arabic)', 'Japanese_(katakana)', 'Anglo-Saxon_Futhorc', 'Burmese_(Myanmar)', 'Grantha', 'Asomtavruli_(Georgian)', 'Tagalog', 'Cyrillic', 'Futurama', 'Ojibwe_(Canadian_Aboriginal_Syllabics)', 'Inuktitut_(Canadian_Aboriginal_Syllabics)', 'Arcadian', 'Alphabet_of_the_Magi', 'Tifinagh', 'Early_Aramaic', 'Japanese_(hiragana)', 'Gujarati', 'Mkhedruli_(Georgian)', 'Latin', 'Balinese', 'Bengali', 'Korean', 'Greek', 'Blackfoot_(Canadian_Aboriginal_Syllabics)', 'Braille', 'Sanskrit', 'N_Ko', 'Syriac_(Estrangelo)'])"
            ]
          },
          "metadata": {
            "tags": []
          },
          "execution_count": 31
        }
      ]
    },
    {
      "cell_type": "code",
      "metadata": {
        "id": "31EpjdmoGLrL",
        "outputId": "4a3b8c5e-8f3f-4076-d7ac-940d0f75ad21",
        "colab": {
          "base_uri": "https://localhost:8080/"
        }
      },
      "source": [
        "print('This holds the indexes of the corresponding chatacters in the c.keys()\\n', c['Early_Aramaic'])"
      ],
      "execution_count": 32,
      "outputs": [
        {
          "output_type": "stream",
          "text": [
            "This holds the indexes of the corresponding chatacters in the c.keys()\n",
            " [503, 524]\n"
          ],
          "name": "stdout"
        }
      ]
    },
    {
      "cell_type": "markdown",
      "metadata": {
        "id": "LDsRmUHlPh8P"
      },
      "source": [
        "### Saving the train tensors on disk"
      ]
    },
    {
      "cell_type": "code",
      "metadata": {
        "id": "eSi8kFq8Ph8Q"
      },
      "source": [
        "with open(os.path.join(save_path,\"train.pickle\"), \"wb\") as f:\n",
        "    pickle.dump((X,c),f)"
      ],
      "execution_count": 33,
      "outputs": []
    },
    {
      "cell_type": "markdown",
      "metadata": {
        "id": "dM6Ragq0Ph8T"
      },
      "source": [
        "### Loading the validation images into tensors"
      ]
    },
    {
      "cell_type": "code",
      "metadata": {
        "id": "bQRTsajiPh8T",
        "outputId": "cb6dfe1d-f8db-43b8-9398-6084747aa54f",
        "colab": {
          "base_uri": "https://localhost:8080/"
        }
      },
      "source": [
        "Xval,yval,cval=loadimgs(val_folder)"
      ],
      "execution_count": 34,
      "outputs": [
        {
          "output_type": "stream",
          "text": [
            "loading alphabet: Old_Church_Slavonic_(Cyrillic)\n",
            "loading alphabet: Mongolian\n",
            "loading alphabet: Keble\n",
            "loading alphabet: Kannada\n",
            "loading alphabet: Glagolitic\n",
            "loading alphabet: Ge_ez\n",
            "loading alphabet: Tengwar\n",
            "loading alphabet: Malayalam\n",
            "loading alphabet: Oriya\n",
            "loading alphabet: Aurek-Besh\n",
            "loading alphabet: Angelic\n",
            "loading alphabet: Gurmukhi\n",
            "loading alphabet: Atlantean\n",
            "loading alphabet: Atemayar_Qelisayer\n",
            "loading alphabet: Sylheti\n",
            "loading alphabet: ULOG\n",
            "loading alphabet: Manipuri\n",
            "loading alphabet: Syriac_(Serto)\n",
            "loading alphabet: Tibetan\n",
            "loading alphabet: Avesta\n"
          ],
          "name": "stdout"
        }
      ]
    },
    {
      "cell_type": "code",
      "metadata": {
        "id": "Z4_6GOu5DCoh",
        "outputId": "ecda8398-eaa6-4743-d070-d2ef4e7e0637",
        "colab": {
          "base_uri": "https://localhost:8080/"
        }
      },
      "source": [
        "Xval.shape"
      ],
      "execution_count": 35,
      "outputs": [
        {
          "output_type": "execute_result",
          "data": {
            "text/plain": [
              "(659, 20, 105, 105)"
            ]
          },
          "metadata": {
            "tags": []
          },
          "execution_count": 35
        }
      ]
    },
    {
      "cell_type": "markdown",
      "metadata": {
        "id": "sXzUG_06Ph8W"
      },
      "source": [
        "### Saving the validation tensors on disk"
      ]
    },
    {
      "cell_type": "code",
      "metadata": {
        "id": "NuTN-hOSPh8W"
      },
      "source": [
        "with open(os.path.join(save_path,\"val.pickle\"), \"wb\") as f:\n",
        "    pickle.dump((Xval,cval),f)"
      ],
      "execution_count": 36,
      "outputs": []
    },
    {
      "cell_type": "code",
      "metadata": {
        "id": "ov4BrfA4Ph8c"
      },
      "source": [
        "def initialize_weights(shape, dtype=None):\n",
        "    \"\"\"\n",
        "    The paper, http://www.cs.utoronto.ca/~gkoch/files/msc-thesis.pdf\n",
        "    suggests to initialize CNN layer weights with mean as 0.0 and standard deviation of 0.01\n",
        "    \"\"\"\n",
        "    return np.random.normal(loc = 0.0, scale = 1e-2, size = shape)"
      ],
      "execution_count": 37,
      "outputs": []
    },
    {
      "cell_type": "code",
      "metadata": {
        "id": "baThgDMoPh8e"
      },
      "source": [
        "def initialize_bias(shape, dtype=None):\n",
        "    \"\"\"\n",
        "    The paper, http://www.cs.utoronto.ca/~gkoch/files/msc-thesis.pdf\n",
        "    suggests to initialize CNN layer bias with mean as 0.5 and standard deviation of 0.01\n",
        "    \"\"\"\n",
        "    return np.random.normal(loc = 0.5, scale = 1e-2, size = shape)"
      ],
      "execution_count": 38,
      "outputs": []
    },
    {
      "cell_type": "markdown",
      "metadata": {
        "id": "YmrJ1TgiIHmY"
      },
      "source": [
        "### Siamese Networks\n",
        "![Model Architecture](https://miro.medium.com/max/2640/1*v40QXakPBOmiq4lCKbPu8w.png)\n",
        "\n",
        "The two Convolutional Neural Networks shown above are not different networks but are two copies of the same network, hence the name Siamese Networks. Basically they share the same parameters. The two input images (x1 and x2) are passed through the ConvNet to generate a fixed length feature vector for each (h(x1) and h(x2)). Assuming the neural network model is trained properly, we can make the following hypothesis: If the two input images belong to the same character, then their feature vectors must also be similar, while if the two input images belong to the different characters, then their feature vectors will also be different. Thus the element-wise absolute difference between the two feature vectors must be very different in both the above cases. And hence the similarity score generated by the output sigmoid layer must also be different in these two cases. This is the central idea behind the Siamese Networks.\n",
        "\n",
        "The `get_siamese_model()` creates the required model for implementing siamese network.\n"
      ]
    },
    {
      "cell_type": "code",
      "metadata": {
        "id": "lW_IqUtuPh8h"
      },
      "source": [
        "def get_siamese_model(input_shape):\n",
        "    \"\"\"\n",
        "    Model architecture based on the one provided in: http://www.cs.utoronto.ca/~gkoch/files/msc-thesis.pdf\n",
        "    \"\"\"\n",
        "    \n",
        "    # Define the tensors for the two input images\n",
        "    left_input = Input(input_shape)\n",
        "    right_input = Input(input_shape)\n",
        "    \n",
        "    # Convolutional Neural Network\n",
        "    model = Sequential()\n",
        "    model.add(Conv2D(64, (10,10), activation='relu', input_shape=input_shape,\n",
        "                   kernel_initializer=initialize_weights, kernel_regularizer=l2(2e-4)))\n",
        "    model.add(MaxPooling2D())\n",
        "    model.add(Conv2D(128, (7,7), activation='relu',\n",
        "                     kernel_initializer=initialize_weights,\n",
        "                     bias_initializer=initialize_bias, kernel_regularizer=l2(2e-4)))\n",
        "    model.add(MaxPooling2D())\n",
        "    model.add(Conv2D(128, (4,4), activation='relu', kernel_initializer=initialize_weights,\n",
        "                     bias_initializer=initialize_bias, kernel_regularizer=l2(2e-4)))\n",
        "    model.add(MaxPooling2D())\n",
        "    model.add(Conv2D(256, (4,4), activation='relu', kernel_initializer=initialize_weights,\n",
        "                     bias_initializer=initialize_bias, kernel_regularizer=l2(2e-4)))\n",
        "    model.add(Flatten())\n",
        "    model.add(Dense(4096, activation='sigmoid',\n",
        "                   kernel_regularizer=l2(1e-3),\n",
        "                   kernel_initializer=initialize_weights,bias_initializer=initialize_bias))\n",
        "    \n",
        "    # Generate the encodings (feature vectors) for the two images\n",
        "    encoded_l = model(left_input)\n",
        "    encoded_r = model(right_input)\n",
        "    \n",
        "    # Add a customized layer to compute the absolute difference between the encodings\n",
        "    L1_layer = Lambda(lambda tensors:K.abs(tensors[0] - tensors[1]))\n",
        "    L1_distance = L1_layer([encoded_l, encoded_r])\n",
        "    \n",
        "    # Add a dense layer with a sigmoid unit to generate the similarity score\n",
        "    prediction = Dense(1,activation='sigmoid',bias_initializer=initialize_bias)(L1_distance)\n",
        "    \n",
        "    # Connect the inputs with the outputs\n",
        "    siamese_net = Model(inputs=[left_input,right_input],outputs=prediction)\n",
        "    \n",
        "    # return the model\n",
        "    return siamese_net"
      ],
      "execution_count": 39,
      "outputs": []
    },
    {
      "cell_type": "code",
      "metadata": {
        "id": "d8Di-qqPPh8j",
        "outputId": "6fa1962a-7e30-43ad-a1a7-5020a3632718",
        "colab": {
          "base_uri": "https://localhost:8080/"
        }
      },
      "source": [
        "model = get_siamese_model((105, 105, 1))\n",
        "model.summary()"
      ],
      "execution_count": 40,
      "outputs": [
        {
          "output_type": "stream",
          "text": [
            "Model: \"functional_1\"\n",
            "__________________________________________________________________________________________________\n",
            "Layer (type)                    Output Shape         Param #     Connected to                     \n",
            "==================================================================================================\n",
            "input_3 (InputLayer)            [(None, 105, 105, 1) 0                                            \n",
            "__________________________________________________________________________________________________\n",
            "input_4 (InputLayer)            [(None, 105, 105, 1) 0                                            \n",
            "__________________________________________________________________________________________________\n",
            "sequential_1 (Sequential)       (None, 4096)         38947648    input_3[0][0]                    \n",
            "                                                                 input_4[0][0]                    \n",
            "__________________________________________________________________________________________________\n",
            "lambda (Lambda)                 (None, 4096)         0           sequential_1[0][0]               \n",
            "                                                                 sequential_1[1][0]               \n",
            "__________________________________________________________________________________________________\n",
            "dense_1 (Dense)                 (None, 1)            4097        lambda[0][0]                     \n",
            "==================================================================================================\n",
            "Total params: 38,951,745\n",
            "Trainable params: 38,951,745\n",
            "Non-trainable params: 0\n",
            "__________________________________________________________________________________________________\n"
          ],
          "name": "stdout"
        }
      ]
    },
    {
      "cell_type": "code",
      "metadata": {
        "id": "NTYc_TBQPh8o"
      },
      "source": [
        "optimizer = Adam(lr = 0.00006)\n",
        "model.compile(loss=\"binary_crossentropy\",optimizer=optimizer)"
      ],
      "execution_count": 41,
      "outputs": []
    },
    {
      "cell_type": "markdown",
      "metadata": {
        "id": "HeUbHFsxPh8q"
      },
      "source": [
        "### Loading the train tensors"
      ]
    },
    {
      "cell_type": "code",
      "metadata": {
        "id": "ie7OkZRzPh8r",
        "outputId": "3a49175c-0755-410c-945f-c773e62628ec",
        "colab": {
          "base_uri": "https://localhost:8080/"
        }
      },
      "source": [
        "with open(os.path.join(save_path, \"train.pickle\"), \"rb\") as f:\n",
        "    (Xtrain, train_classes) = pickle.load(f)\n",
        "    \n",
        "print(\"Training alphabets: \\n\")\n",
        "print(list(train_classes.keys()))"
      ],
      "execution_count": 42,
      "outputs": [
        {
          "output_type": "stream",
          "text": [
            "Training alphabets: \n",
            "\n",
            "['Hebrew', 'Armenian', 'Malay_(Jawi_-_Arabic)', 'Japanese_(katakana)', 'Anglo-Saxon_Futhorc', 'Burmese_(Myanmar)', 'Grantha', 'Asomtavruli_(Georgian)', 'Tagalog', 'Cyrillic', 'Futurama', 'Ojibwe_(Canadian_Aboriginal_Syllabics)', 'Inuktitut_(Canadian_Aboriginal_Syllabics)', 'Arcadian', 'Alphabet_of_the_Magi', 'Tifinagh', 'Early_Aramaic', 'Japanese_(hiragana)', 'Gujarati', 'Mkhedruli_(Georgian)', 'Latin', 'Balinese', 'Bengali', 'Korean', 'Greek', 'Blackfoot_(Canadian_Aboriginal_Syllabics)', 'Braille', 'Sanskrit', 'N_Ko', 'Syriac_(Estrangelo)']\n"
          ],
          "name": "stdout"
        }
      ]
    },
    {
      "cell_type": "code",
      "metadata": {
        "id": "bkwgjsJqPh8t",
        "outputId": "64dc17d1-a8f3-4317-91cf-389074568ade",
        "colab": {
          "base_uri": "https://localhost:8080/"
        }
      },
      "source": [
        "with open(os.path.join(save_path, \"val.pickle\"), \"rb\") as f:\n",
        "    (Xval, val_classes) = pickle.load(f)\n",
        "\n",
        "print(\"Validation alphabets:\", end=\"\\n\\n\")\n",
        "print(list(val_classes.keys()))"
      ],
      "execution_count": 43,
      "outputs": [
        {
          "output_type": "stream",
          "text": [
            "Validation alphabets:\n",
            "\n",
            "['Old_Church_Slavonic_(Cyrillic)', 'Mongolian', 'Keble', 'Kannada', 'Glagolitic', 'Ge_ez', 'Tengwar', 'Malayalam', 'Oriya', 'Aurek-Besh', 'Angelic', 'Gurmukhi', 'Atlantean', 'Atemayar_Qelisayer', 'Sylheti', 'ULOG', 'Manipuri', 'Syriac_(Serto)', 'Tibetan', 'Avesta']\n"
          ],
          "name": "stdout"
        }
      ]
    },
    {
      "cell_type": "code",
      "metadata": {
        "id": "LXnShVZHGsTy"
      },
      "source": [
        ""
      ],
      "execution_count": 43,
      "outputs": []
    },
    {
      "cell_type": "markdown",
      "metadata": {
        "id": "eTTJ3cZsGzOr"
      },
      "source": [
        "The input to our system will be a pair of images and the output will be a similarity score between 0 and 1.\\\n",
        "Xi = Pair of images\\\n",
        "Yi = 1 ; if both images contain the same character\\\n",
        "Yi = 0; if both images contain different characters\\\n",
        "Like following:\n",
        "\n",
        "![title](https://miro.medium.com/max/1100/1*4kfqL7aEvVMU0iALyxvG0g.png)\n"
      ]
    },
    {
      "cell_type": "markdown",
      "metadata": {
        "id": "D8W0uIr0He1T"
      },
      "source": [
        "We'll be creating pairs of images along with the target variable, as shown above, to be fed as input to the Siamese Network. We will generate pairs randomly from all the alphabets in the training data.\n",
        "The code to generate these pairs and targets is written in `get_batch()`"
      ]
    },
    {
      "cell_type": "code",
      "metadata": {
        "id": "hoR7QHkwPh8v"
      },
      "source": [
        "def get_batch(batch_size,s=\"train\"):\n",
        "    \"\"\"\n",
        "    Create batch of n pairs, half same class, half different class\n",
        "    \"\"\"\n",
        "    if s == 'train':\n",
        "        X = Xtrain\n",
        "        categories = train_classes\n",
        "    else:\n",
        "        X = Xval\n",
        "        categories = val_classes\n",
        "    n_classes, n_examples, w, h = X.shape\n",
        "\n",
        "    # randomly sample several classes to use in the batch\n",
        "    categories = rng.choice(n_classes,size=(batch_size,),replace=False)\n",
        "    \n",
        "    # initialize 2 empty arrays for the input image batch\n",
        "    pairs=[np.zeros((batch_size, h, w,1)) for i in range(2)]\n",
        "    \n",
        "    # initialize vector for the targets\n",
        "    targets=np.zeros((batch_size,))\n",
        "    \n",
        "    # make one half of it '1's, so 2nd half of batch has same class\n",
        "    targets[batch_size//2:] = 1\n",
        "    for i in range(batch_size):\n",
        "        category = categories[i]\n",
        "        idx_1 = rng.randint(0, n_examples)\n",
        "        pairs[0][i,:,:,:] = X[category, idx_1].reshape(w, h, 1)\n",
        "        idx_2 = rng.randint(0, n_examples)\n",
        "        \n",
        "        # pick images of same class for 1st half, different for 2nd\n",
        "        if i >= batch_size // 2:\n",
        "            category_2 = category  \n",
        "        else: \n",
        "            # add a random number to the category modulo n classes to ensure 2nd image has a different category\n",
        "            category_2 = (category + rng.randint(1,n_classes)) % n_classes\n",
        "        \n",
        "        pairs[1][i,:,:,:] = X[category_2,idx_2].reshape(w, h,1)\n",
        "    \n",
        "    return pairs, targets"
      ],
      "execution_count": 44,
      "outputs": []
    },
    {
      "cell_type": "markdown",
      "metadata": {
        "id": "jJ5Wrvc-Hxwu"
      },
      "source": [
        "`get_batch()` function by passing the batch_size and it will return “batch_size” number of image pairs along with their target variables.\n",
        "We'll use it in `generate()` function to generate data in batches during the training of the network."
      ]
    },
    {
      "cell_type": "code",
      "metadata": {
        "id": "kAh8sBCAPh8x"
      },
      "source": [
        "def generate(batch_size, s=\"train\"):\n",
        "    \"\"\"\n",
        "    a generator for batches, so model.fit_generator can be used. \n",
        "    \"\"\"\n",
        "    while True:\n",
        "        pairs, targets = get_batch(batch_size,s)\n",
        "        yield (pairs, targets)"
      ],
      "execution_count": 45,
      "outputs": []
    },
    {
      "cell_type": "markdown",
      "metadata": {
        "id": "mZEMATjkMYPt"
      },
      "source": [
        "The model will be evaluated using **N way One shot Learning** \n",
        "\n",
        "![9 way](https://sorenbouma.github.io/images/task_9.png)\n",
        "\n",
        "In the above image, we have 9 images in the support set, and we want to find the *character* in the left exist or not, then we will compare the similarity score of the character on the left with every character in the right.\n",
        "\n",
        "The image with maximum similarity score in the support set will be the matching image.\n",
        "\n",
        "Similarly, we can do this with 36 way One shot learning, i.e increasing the support set, given as below:\n",
        "\n",
        "![25 way](https://encrypted-tbn0.gstatic.com/images?q=tbn:ANd9GcQoHaM9X0iFIg4bQCdxzPeaDcLhHKfaUxFmboDZuXCPiuvYXuqB)\n",
        "\n",
        "The code for generating N way one shot learning, is written in `make_oneshot_task()`"
      ]
    },
    {
      "cell_type": "code",
      "metadata": {
        "id": "Mkf5ZDBbPh80"
      },
      "source": [
        "def make_oneshot_task(N, s=\"val\", language=None):\n",
        "    \"\"\"\n",
        "    Create pairs of test image, support set for testing N way one-shot learning. \n",
        "    \"\"\"\n",
        "    if s == 'train':\n",
        "        X = Xtrain\n",
        "        categories = train_classes\n",
        "    else:\n",
        "        X = Xval\n",
        "        categories = val_classes\n",
        "    n_classes, n_examples, w, h = X.shape\n",
        "    \n",
        "    indices = rng.randint(0, n_examples,size=(N,))\n",
        "    if language is not None: # if language is specified, select characters for that language\n",
        "        low, high = categories[language]\n",
        "        if N > high - low:\n",
        "            raise ValueError(\"This language ({}) has less than {} letters\".format(language, N))\n",
        "        categories = rng.choice(range(low,high),size=(N,),replace=False)\n",
        "\n",
        "    else: # if no language specified just pick a bunch of random letters\n",
        "        categories = rng.choice(range(n_classes),size=(N,),replace=False)            \n",
        "    true_category = categories[0]\n",
        "    ex1, ex2 = rng.choice(n_examples,replace=False,size=(2,))\n",
        "    test_image = np.asarray([X[true_category,ex1,:,:]]*N).reshape(N, w, h,1)\n",
        "    support_set = X[categories,indices,:,:]\n",
        "    support_set[0,:,:] = X[true_category,ex2]\n",
        "    support_set = support_set.reshape(N, w, h,1)\n",
        "    targets = np.zeros((N,))\n",
        "    targets[0] = 1\n",
        "    targets, test_image, support_set = shuffle(targets, test_image, support_set)\n",
        "    pairs = [test_image,support_set]\n",
        "\n",
        "    return pairs, targets"
      ],
      "execution_count": 46,
      "outputs": []
    },
    {
      "cell_type": "code",
      "metadata": {
        "id": "FIuw-eC8Ph84"
      },
      "source": [
        "def test_oneshot(model, N, k, s = \"val\", verbose = 0):\n",
        "    \"\"\"\n",
        "    Test average N way oneshot learning accuracy of a siamese neural net over k one-shot tasks\n",
        "    \"\"\"\n",
        "    n_correct = 0\n",
        "    if verbose:\n",
        "        print(\"Evaluating model on {} random {} way one-shot learning tasks ... \\n\".format(k,N))\n",
        "    for i in range(k):\n",
        "        inputs, targets = make_oneshot_task(N,s)\n",
        "        probs = model.predict(inputs)\n",
        "        if np.argmax(probs) == np.argmax(targets):\n",
        "            n_correct+=1\n",
        "    percent_correct = (100.0 * n_correct / k)\n",
        "    if verbose:\n",
        "        print(\"Got an average of {}% {} way one-shot learning accuracy \\n\".format(percent_correct,N))\n",
        "    return percent_correct"
      ],
      "execution_count": 47,
      "outputs": []
    },
    {
      "cell_type": "code",
      "metadata": {
        "id": "uhdCou-CPh8-"
      },
      "source": [
        "# Hyper parameters\n",
        "evaluate_every = 200 # interval for evaluating on one-shot tasks\n",
        "batch_size = 32\n",
        "n_iter = 20000 # No. of training iterations\n",
        "N_way = 20 # how many classes for testing one-shot tasks\n",
        "n_val = 250 # how many one-shot tasks to validate on\n",
        "best = -1"
      ],
      "execution_count": 48,
      "outputs": []
    },
    {
      "cell_type": "code",
      "metadata": {
        "id": "_ndjA6fcPh9A"
      },
      "source": [
        "model_path = './weights/'"
      ],
      "execution_count": 49,
      "outputs": []
    },
    {
      "cell_type": "code",
      "metadata": {
        "id": "4eMxyDWMPh9C",
        "outputId": "efeeeb21-e547-4e0d-8f2b-c01d8df0671a",
        "colab": {
          "base_uri": "https://localhost:8080/"
        }
      },
      "source": [
        "print(\"Starting training process!\")\n",
        "print(\"-------------------------------------\")\n",
        "t_start = time.time()\n",
        "for i in range(1, n_iter+1):\n",
        "    (inputs,targets) = get_batch(batch_size)\n",
        "    loss = model.train_on_batch(inputs, targets)\n",
        "    if i % evaluate_every == 0:\n",
        "        print(\"\\n ------------- \\n\")\n",
        "        print(\"Time for {0} iterations: {1} mins\".format(i, (time.time()-t_start)/60.0))\n",
        "        print(\"Train Loss: {0}\".format(loss)) \n",
        "        val_acc = test_oneshot(model, N_way, n_val, verbose=True)\n",
        "        model.save_weights(os.path.join(model_path, 'weights.{}.h5'.format(i)))\n",
        "        if val_acc >= best:\n",
        "            print(\"Current best: {0}, previous best: {1}\".format(val_acc, best))\n",
        "            best = val_acc"
      ],
      "execution_count": 50,
      "outputs": [
        {
          "output_type": "stream",
          "text": [
            "Starting training process!\n",
            "-------------------------------------\n",
            "\n",
            " ------------- \n",
            "\n",
            "Time for 200 iterations: 0.3744197487831116 mins\n",
            "Train Loss: 2.4782845973968506\n",
            "Evaluating model on 250 random 20 way one-shot learning tasks ... \n",
            "\n",
            "Got an average of 27.6% 20 way one-shot learning accuracy \n",
            "\n",
            "Current best: 27.6, previous best: -1\n",
            "\n",
            " ------------- \n",
            "\n",
            "Time for 400 iterations: 0.8163727839787801 mins\n",
            "Train Loss: 1.8820059299468994\n",
            "Evaluating model on 250 random 20 way one-shot learning tasks ... \n",
            "\n",
            "Got an average of 44.0% 20 way one-shot learning accuracy \n",
            "\n",
            "Current best: 44.0, previous best: 27.6\n",
            "\n",
            " ------------- \n",
            "\n",
            "Time for 600 iterations: 1.25398192803065 mins\n",
            "Train Loss: 1.5312182903289795\n",
            "Evaluating model on 250 random 20 way one-shot learning tasks ... \n",
            "\n",
            "Got an average of 45.2% 20 way one-shot learning accuracy \n",
            "\n",
            "Current best: 45.2, previous best: 44.0\n",
            "\n",
            " ------------- \n",
            "\n",
            "Time for 800 iterations: 1.6989500403404236 mins\n",
            "Train Loss: 1.2970855236053467\n",
            "Evaluating model on 250 random 20 way one-shot learning tasks ... \n",
            "\n",
            "Got an average of 57.2% 20 way one-shot learning accuracy \n",
            "\n",
            "Current best: 57.2, previous best: 45.2\n",
            "\n",
            " ------------- \n",
            "\n",
            "Time for 1000 iterations: 2.1394748369852703 mins\n",
            "Train Loss: 1.126517415046692\n",
            "Evaluating model on 250 random 20 way one-shot learning tasks ... \n",
            "\n",
            "Got an average of 58.4% 20 way one-shot learning accuracy \n",
            "\n",
            "Current best: 58.4, previous best: 57.2\n",
            "\n",
            " ------------- \n",
            "\n",
            "Time for 1200 iterations: 2.5890969316164654 mins\n",
            "Train Loss: 0.8834667801856995\n",
            "Evaluating model on 250 random 20 way one-shot learning tasks ... \n",
            "\n",
            "Got an average of 52.0% 20 way one-shot learning accuracy \n",
            "\n",
            "\n",
            " ------------- \n",
            "\n",
            "Time for 1400 iterations: 3.0332858284314472 mins\n",
            "Train Loss: 0.8880666494369507\n",
            "Evaluating model on 250 random 20 way one-shot learning tasks ... \n",
            "\n",
            "Got an average of 59.2% 20 way one-shot learning accuracy \n",
            "\n",
            "Current best: 59.2, previous best: 58.4\n",
            "\n",
            " ------------- \n",
            "\n",
            "Time for 1600 iterations: 3.483068021138509 mins\n",
            "Train Loss: 0.7010597586631775\n",
            "Evaluating model on 250 random 20 way one-shot learning tasks ... \n",
            "\n",
            "Got an average of 64.4% 20 way one-shot learning accuracy \n",
            "\n",
            "Current best: 64.4, previous best: 59.2\n",
            "\n",
            " ------------- \n",
            "\n",
            "Time for 1800 iterations: 3.921454711755117 mins\n",
            "Train Loss: 0.8122687339782715\n",
            "Evaluating model on 250 random 20 way one-shot learning tasks ... \n",
            "\n",
            "Got an average of 60.0% 20 way one-shot learning accuracy \n",
            "\n",
            "\n",
            " ------------- \n",
            "\n",
            "Time for 2000 iterations: 4.366502877076467 mins\n",
            "Train Loss: 0.6632964611053467\n",
            "Evaluating model on 250 random 20 way one-shot learning tasks ... \n",
            "\n",
            "Got an average of 63.2% 20 way one-shot learning accuracy \n",
            "\n",
            "\n",
            " ------------- \n",
            "\n",
            "Time for 2200 iterations: 4.806022644042969 mins\n",
            "Train Loss: 0.6994503140449524\n",
            "Evaluating model on 250 random 20 way one-shot learning tasks ... \n",
            "\n",
            "Got an average of 73.2% 20 way one-shot learning accuracy \n",
            "\n",
            "Current best: 73.2, previous best: 64.4\n",
            "\n",
            " ------------- \n",
            "\n",
            "Time for 2400 iterations: 5.248845191796621 mins\n",
            "Train Loss: 0.5924376845359802\n",
            "Evaluating model on 250 random 20 way one-shot learning tasks ... \n",
            "\n",
            "Got an average of 64.4% 20 way one-shot learning accuracy \n",
            "\n",
            "\n",
            " ------------- \n",
            "\n",
            "Time for 2600 iterations: 5.690203936894735 mins\n",
            "Train Loss: 0.538421630859375\n",
            "Evaluating model on 250 random 20 way one-shot learning tasks ... \n",
            "\n",
            "Got an average of 74.4% 20 way one-shot learning accuracy \n",
            "\n",
            "Current best: 74.4, previous best: 73.2\n",
            "\n",
            " ------------- \n",
            "\n",
            "Time for 2800 iterations: 6.132899097601572 mins\n",
            "Train Loss: 0.6252983808517456\n",
            "Evaluating model on 250 random 20 way one-shot learning tasks ... \n",
            "\n",
            "Got an average of 68.8% 20 way one-shot learning accuracy \n",
            "\n",
            "\n",
            " ------------- \n",
            "\n",
            "Time for 3000 iterations: 6.572856080532074 mins\n",
            "Train Loss: 0.4330059885978699\n",
            "Evaluating model on 250 random 20 way one-shot learning tasks ... \n",
            "\n",
            "Got an average of 68.0% 20 way one-shot learning accuracy \n",
            "\n",
            "\n",
            " ------------- \n",
            "\n",
            "Time for 3200 iterations: 7.018670356273651 mins\n",
            "Train Loss: 0.3920249938964844\n",
            "Evaluating model on 250 random 20 way one-shot learning tasks ... \n",
            "\n",
            "Got an average of 66.0% 20 way one-shot learning accuracy \n",
            "\n",
            "\n",
            " ------------- \n",
            "\n",
            "Time for 3400 iterations: 7.462730034192403 mins\n",
            "Train Loss: 0.4484873414039612\n",
            "Evaluating model on 250 random 20 way one-shot learning tasks ... \n",
            "\n",
            "Got an average of 70.8% 20 way one-shot learning accuracy \n",
            "\n",
            "\n",
            " ------------- \n",
            "\n",
            "Time for 3600 iterations: 7.91210100253423 mins\n",
            "Train Loss: 0.46998921036720276\n",
            "Evaluating model on 250 random 20 way one-shot learning tasks ... \n",
            "\n",
            "Got an average of 73.6% 20 way one-shot learning accuracy \n",
            "\n",
            "\n",
            " ------------- \n",
            "\n",
            "Time for 3800 iterations: 8.354743460814158 mins\n",
            "Train Loss: 0.41606736183166504\n",
            "Evaluating model on 250 random 20 way one-shot learning tasks ... \n",
            "\n",
            "Got an average of 71.6% 20 way one-shot learning accuracy \n",
            "\n",
            "\n",
            " ------------- \n",
            "\n",
            "Time for 4000 iterations: 8.797694353262584 mins\n",
            "Train Loss: 0.3674290180206299\n",
            "Evaluating model on 250 random 20 way one-shot learning tasks ... \n",
            "\n",
            "Got an average of 70.0% 20 way one-shot learning accuracy \n",
            "\n",
            "\n",
            " ------------- \n",
            "\n",
            "Time for 4200 iterations: 9.23826369047165 mins\n",
            "Train Loss: 0.46857327222824097\n",
            "Evaluating model on 250 random 20 way one-shot learning tasks ... \n",
            "\n",
            "Got an average of 75.2% 20 way one-shot learning accuracy \n",
            "\n",
            "Current best: 75.2, previous best: 74.4\n",
            "\n",
            " ------------- \n",
            "\n",
            "Time for 4400 iterations: 9.686117680867513 mins\n",
            "Train Loss: 0.359080970287323\n",
            "Evaluating model on 250 random 20 way one-shot learning tasks ... \n",
            "\n",
            "Got an average of 69.6% 20 way one-shot learning accuracy \n",
            "\n",
            "\n",
            " ------------- \n",
            "\n",
            "Time for 4600 iterations: 10.127466265360514 mins\n",
            "Train Loss: 0.3658008575439453\n",
            "Evaluating model on 250 random 20 way one-shot learning tasks ... \n",
            "\n",
            "Got an average of 67.6% 20 way one-shot learning accuracy \n",
            "\n",
            "\n",
            " ------------- \n",
            "\n",
            "Time for 4800 iterations: 10.570474004745483 mins\n",
            "Train Loss: 0.2981342673301697\n",
            "Evaluating model on 250 random 20 way one-shot learning tasks ... \n",
            "\n",
            "Got an average of 78.4% 20 way one-shot learning accuracy \n",
            "\n",
            "Current best: 78.4, previous best: 75.2\n",
            "\n",
            " ------------- \n",
            "\n",
            "Time for 5000 iterations: 11.014159349600474 mins\n",
            "Train Loss: 0.34966570138931274\n",
            "Evaluating model on 250 random 20 way one-shot learning tasks ... \n",
            "\n",
            "Got an average of 75.2% 20 way one-shot learning accuracy \n",
            "\n",
            "\n",
            " ------------- \n",
            "\n",
            "Time for 5200 iterations: 11.456676097710927 mins\n",
            "Train Loss: 0.3837696313858032\n",
            "Evaluating model on 250 random 20 way one-shot learning tasks ... \n",
            "\n",
            "Got an average of 71.6% 20 way one-shot learning accuracy \n",
            "\n",
            "\n",
            " ------------- \n",
            "\n",
            "Time for 5400 iterations: 11.903193763891856 mins\n",
            "Train Loss: 0.30547136068344116\n",
            "Evaluating model on 250 random 20 way one-shot learning tasks ... \n",
            "\n",
            "Got an average of 70.8% 20 way one-shot learning accuracy \n",
            "\n",
            "\n",
            " ------------- \n",
            "\n",
            "Time for 5600 iterations: 12.346761612097422 mins\n",
            "Train Loss: 0.28071215748786926\n",
            "Evaluating model on 250 random 20 way one-shot learning tasks ... \n",
            "\n",
            "Got an average of 76.4% 20 way one-shot learning accuracy \n",
            "\n",
            "\n",
            " ------------- \n",
            "\n",
            "Time for 5800 iterations: 12.79363574186961 mins\n",
            "Train Loss: 0.2572070360183716\n",
            "Evaluating model on 250 random 20 way one-shot learning tasks ... \n",
            "\n",
            "Got an average of 76.8% 20 way one-shot learning accuracy \n",
            "\n",
            "\n",
            " ------------- \n",
            "\n",
            "Time for 6000 iterations: 13.237260480721792 mins\n",
            "Train Loss: 0.3820232152938843\n",
            "Evaluating model on 250 random 20 way one-shot learning tasks ... \n",
            "\n",
            "Got an average of 69.6% 20 way one-shot learning accuracy \n",
            "\n",
            "\n",
            " ------------- \n",
            "\n",
            "Time for 6200 iterations: 13.683107749621074 mins\n",
            "Train Loss: 0.28911542892456055\n",
            "Evaluating model on 250 random 20 way one-shot learning tasks ... \n",
            "\n",
            "Got an average of 77.6% 20 way one-shot learning accuracy \n",
            "\n",
            "\n",
            " ------------- \n",
            "\n",
            "Time for 6400 iterations: 14.12526992559433 mins\n",
            "Train Loss: 0.24449817836284637\n",
            "Evaluating model on 250 random 20 way one-shot learning tasks ... \n",
            "\n",
            "Got an average of 80.4% 20 way one-shot learning accuracy \n",
            "\n",
            "Current best: 80.4, previous best: 78.4\n",
            "\n",
            " ------------- \n",
            "\n",
            "Time for 6600 iterations: 14.56993947426478 mins\n",
            "Train Loss: 0.34249210357666016\n",
            "Evaluating model on 250 random 20 way one-shot learning tasks ... \n",
            "\n",
            "Got an average of 73.6% 20 way one-shot learning accuracy \n",
            "\n",
            "\n",
            " ------------- \n",
            "\n",
            "Time for 6800 iterations: 15.015473965803782 mins\n",
            "Train Loss: 0.23324215412139893\n",
            "Evaluating model on 250 random 20 way one-shot learning tasks ... \n",
            "\n",
            "Got an average of 75.6% 20 way one-shot learning accuracy \n",
            "\n",
            "\n",
            " ------------- \n",
            "\n",
            "Time for 7000 iterations: 15.462690265973409 mins\n",
            "Train Loss: 0.3247702419757843\n",
            "Evaluating model on 250 random 20 way one-shot learning tasks ... \n",
            "\n",
            "Got an average of 73.2% 20 way one-shot learning accuracy \n",
            "\n",
            "\n",
            " ------------- \n",
            "\n",
            "Time for 7200 iterations: 15.90664215485255 mins\n",
            "Train Loss: 0.2538608908653259\n",
            "Evaluating model on 250 random 20 way one-shot learning tasks ... \n",
            "\n",
            "Got an average of 78.4% 20 way one-shot learning accuracy \n",
            "\n",
            "\n",
            " ------------- \n",
            "\n",
            "Time for 7400 iterations: 16.356704942385356 mins\n",
            "Train Loss: 0.28140079975128174\n",
            "Evaluating model on 250 random 20 way one-shot learning tasks ... \n",
            "\n",
            "Got an average of 75.6% 20 way one-shot learning accuracy \n",
            "\n",
            "\n",
            " ------------- \n",
            "\n",
            "Time for 7600 iterations: 16.802821719646452 mins\n",
            "Train Loss: 0.23777061700820923\n",
            "Evaluating model on 250 random 20 way one-shot learning tasks ... \n",
            "\n",
            "Got an average of 78.8% 20 way one-shot learning accuracy \n",
            "\n",
            "\n",
            " ------------- \n",
            "\n",
            "Time for 7800 iterations: 17.25143471558889 mins\n",
            "Train Loss: 0.2332361340522766\n",
            "Evaluating model on 250 random 20 way one-shot learning tasks ... \n",
            "\n",
            "Got an average of 80.0% 20 way one-shot learning accuracy \n",
            "\n",
            "\n",
            " ------------- \n",
            "\n",
            "Time for 8000 iterations: 17.700904210408527 mins\n",
            "Train Loss: 0.2269306480884552\n",
            "Evaluating model on 250 random 20 way one-shot learning tasks ... \n",
            "\n",
            "Got an average of 77.6% 20 way one-shot learning accuracy \n",
            "\n",
            "\n",
            " ------------- \n",
            "\n",
            "Time for 8200 iterations: 18.15286318063736 mins\n",
            "Train Loss: 0.2324446737766266\n",
            "Evaluating model on 250 random 20 way one-shot learning tasks ... \n",
            "\n",
            "Got an average of 79.6% 20 way one-shot learning accuracy \n",
            "\n",
            "\n",
            " ------------- \n",
            "\n",
            "Time for 8400 iterations: 18.59910443623861 mins\n",
            "Train Loss: 0.20556865632534027\n",
            "Evaluating model on 250 random 20 way one-shot learning tasks ... \n",
            "\n",
            "Got an average of 84.4% 20 way one-shot learning accuracy \n",
            "\n",
            "Current best: 84.4, previous best: 80.4\n",
            "\n",
            " ------------- \n",
            "\n",
            "Time for 8600 iterations: 19.04892973502477 mins\n",
            "Train Loss: 0.49369895458221436\n",
            "Evaluating model on 250 random 20 way one-shot learning tasks ... \n",
            "\n",
            "Got an average of 72.0% 20 way one-shot learning accuracy \n",
            "\n",
            "\n",
            " ------------- \n",
            "\n",
            "Time for 8800 iterations: 19.493104422092436 mins\n",
            "Train Loss: 0.3013216257095337\n",
            "Evaluating model on 250 random 20 way one-shot learning tasks ... \n",
            "\n",
            "Got an average of 74.0% 20 way one-shot learning accuracy \n",
            "\n",
            "\n",
            " ------------- \n",
            "\n",
            "Time for 9000 iterations: 19.946102698644 mins\n",
            "Train Loss: 0.21722567081451416\n",
            "Evaluating model on 250 random 20 way one-shot learning tasks ... \n",
            "\n",
            "Got an average of 80.4% 20 way one-shot learning accuracy \n",
            "\n",
            "\n",
            " ------------- \n",
            "\n",
            "Time for 9200 iterations: 20.396555634339652 mins\n",
            "Train Loss: 0.2798343300819397\n",
            "Evaluating model on 250 random 20 way one-shot learning tasks ... \n",
            "\n",
            "Got an average of 76.0% 20 way one-shot learning accuracy \n",
            "\n",
            "\n",
            " ------------- \n",
            "\n",
            "Time for 9400 iterations: 20.84658202727636 mins\n",
            "Train Loss: 0.33396798372268677\n",
            "Evaluating model on 250 random 20 way one-shot learning tasks ... \n",
            "\n",
            "Got an average of 77.2% 20 way one-shot learning accuracy \n",
            "\n",
            "\n",
            " ------------- \n",
            "\n",
            "Time for 9600 iterations: 21.29343401193619 mins\n",
            "Train Loss: 0.2162032574415207\n",
            "Evaluating model on 250 random 20 way one-shot learning tasks ... \n",
            "\n",
            "Got an average of 74.4% 20 way one-shot learning accuracy \n",
            "\n",
            "\n",
            " ------------- \n",
            "\n",
            "Time for 9800 iterations: 21.747392626603446 mins\n",
            "Train Loss: 0.18040922284126282\n",
            "Evaluating model on 250 random 20 way one-shot learning tasks ... \n",
            "\n",
            "Got an average of 80.0% 20 way one-shot learning accuracy \n",
            "\n",
            "\n",
            " ------------- \n",
            "\n",
            "Time for 10000 iterations: 22.19505783319473 mins\n",
            "Train Loss: 0.212692528963089\n",
            "Evaluating model on 250 random 20 way one-shot learning tasks ... \n",
            "\n",
            "Got an average of 78.8% 20 way one-shot learning accuracy \n",
            "\n",
            "\n",
            " ------------- \n",
            "\n",
            "Time for 10200 iterations: 22.644289509455362 mins\n",
            "Train Loss: 0.2273138463497162\n",
            "Evaluating model on 250 random 20 way one-shot learning tasks ... \n",
            "\n",
            "Got an average of 77.6% 20 way one-shot learning accuracy \n",
            "\n",
            "\n",
            " ------------- \n",
            "\n",
            "Time for 10400 iterations: 23.091113503774007 mins\n",
            "Train Loss: 0.2119486778974533\n",
            "Evaluating model on 250 random 20 way one-shot learning tasks ... \n",
            "\n",
            "Got an average of 81.6% 20 way one-shot learning accuracy \n",
            "\n",
            "\n",
            " ------------- \n",
            "\n",
            "Time for 10600 iterations: 23.542519092559814 mins\n",
            "Train Loss: 0.20597830414772034\n",
            "Evaluating model on 250 random 20 way one-shot learning tasks ... \n",
            "\n",
            "Got an average of 77.6% 20 way one-shot learning accuracy \n",
            "\n",
            "\n",
            " ------------- \n",
            "\n",
            "Time for 10800 iterations: 23.988059345881144 mins\n",
            "Train Loss: 0.17575812339782715\n",
            "Evaluating model on 250 random 20 way one-shot learning tasks ... \n",
            "\n",
            "Got an average of 78.4% 20 way one-shot learning accuracy \n",
            "\n",
            "\n",
            " ------------- \n",
            "\n",
            "Time for 11000 iterations: 24.439941732088723 mins\n",
            "Train Loss: 0.1812237799167633\n",
            "Evaluating model on 250 random 20 way one-shot learning tasks ... \n",
            "\n",
            "Got an average of 75.2% 20 way one-shot learning accuracy \n",
            "\n",
            "\n",
            " ------------- \n",
            "\n",
            "Time for 11200 iterations: 24.88415822585424 mins\n",
            "Train Loss: 0.34418052434921265\n",
            "Evaluating model on 250 random 20 way one-shot learning tasks ... \n",
            "\n",
            "Got an average of 70.0% 20 way one-shot learning accuracy \n",
            "\n",
            "\n",
            " ------------- \n",
            "\n",
            "Time for 11400 iterations: 25.335756548245747 mins\n",
            "Train Loss: 0.26127368211746216\n",
            "Evaluating model on 250 random 20 way one-shot learning tasks ... \n",
            "\n",
            "Got an average of 78.0% 20 way one-shot learning accuracy \n",
            "\n",
            "\n",
            " ------------- \n",
            "\n",
            "Time for 11600 iterations: 25.780572621027627 mins\n",
            "Train Loss: 0.16754800081253052\n",
            "Evaluating model on 250 random 20 way one-shot learning tasks ... \n",
            "\n",
            "Got an average of 78.4% 20 way one-shot learning accuracy \n",
            "\n",
            "\n",
            " ------------- \n",
            "\n",
            "Time for 11800 iterations: 26.23278603553772 mins\n",
            "Train Loss: 0.18993109464645386\n",
            "Evaluating model on 250 random 20 way one-shot learning tasks ... \n",
            "\n",
            "Got an average of 78.0% 20 way one-shot learning accuracy \n",
            "\n",
            "\n",
            " ------------- \n",
            "\n",
            "Time for 12000 iterations: 26.69128382205963 mins\n",
            "Train Loss: 0.24812740087509155\n",
            "Evaluating model on 250 random 20 way one-shot learning tasks ... \n",
            "\n",
            "Got an average of 80.0% 20 way one-shot learning accuracy \n",
            "\n",
            "\n",
            " ------------- \n",
            "\n",
            "Time for 12200 iterations: 27.148582859834036 mins\n",
            "Train Loss: 0.16638979315757751\n",
            "Evaluating model on 250 random 20 way one-shot learning tasks ... \n",
            "\n",
            "Got an average of 80.0% 20 way one-shot learning accuracy \n",
            "\n",
            "\n",
            " ------------- \n",
            "\n",
            "Time for 12400 iterations: 27.602232174078623 mins\n",
            "Train Loss: 0.215814471244812\n",
            "Evaluating model on 250 random 20 way one-shot learning tasks ... \n",
            "\n",
            "Got an average of 73.2% 20 way one-shot learning accuracy \n",
            "\n",
            "\n",
            " ------------- \n",
            "\n",
            "Time for 12600 iterations: 28.05361085732778 mins\n",
            "Train Loss: 0.239047110080719\n",
            "Evaluating model on 250 random 20 way one-shot learning tasks ... \n",
            "\n",
            "Got an average of 76.4% 20 way one-shot learning accuracy \n",
            "\n",
            "\n",
            " ------------- \n",
            "\n",
            "Time for 12800 iterations: 28.513252675533295 mins\n",
            "Train Loss: 0.19272148609161377\n",
            "Evaluating model on 250 random 20 way one-shot learning tasks ... \n",
            "\n",
            "Got an average of 82.4% 20 way one-shot learning accuracy \n",
            "\n",
            "\n",
            " ------------- \n",
            "\n",
            "Time for 13000 iterations: 28.963299949963886 mins\n",
            "Train Loss: 0.2036363035440445\n",
            "Evaluating model on 250 random 20 way one-shot learning tasks ... \n",
            "\n",
            "Got an average of 74.8% 20 way one-shot learning accuracy \n",
            "\n",
            "\n",
            " ------------- \n",
            "\n",
            "Time for 13200 iterations: 29.412746437390645 mins\n",
            "Train Loss: 0.1622183918952942\n",
            "Evaluating model on 250 random 20 way one-shot learning tasks ... \n",
            "\n",
            "Got an average of 78.8% 20 way one-shot learning accuracy \n",
            "\n",
            "\n",
            " ------------- \n",
            "\n",
            "Time for 13400 iterations: 29.86347686847051 mins\n",
            "Train Loss: 0.1762736439704895\n",
            "Evaluating model on 250 random 20 way one-shot learning tasks ... \n",
            "\n",
            "Got an average of 78.4% 20 way one-shot learning accuracy \n",
            "\n",
            "\n",
            " ------------- \n",
            "\n",
            "Time for 13600 iterations: 30.313085075219472 mins\n",
            "Train Loss: 0.21741005778312683\n",
            "Evaluating model on 250 random 20 way one-shot learning tasks ... \n",
            "\n",
            "Got an average of 79.2% 20 way one-shot learning accuracy \n",
            "\n",
            "\n",
            " ------------- \n",
            "\n",
            "Time for 13800 iterations: 30.758873709042867 mins\n",
            "Train Loss: 0.1710970103740692\n",
            "Evaluating model on 250 random 20 way one-shot learning tasks ... \n",
            "\n",
            "Got an average of 76.4% 20 way one-shot learning accuracy \n",
            "\n",
            "\n",
            " ------------- \n",
            "\n",
            "Time for 14000 iterations: 31.209968388080597 mins\n",
            "Train Loss: 0.2350052446126938\n",
            "Evaluating model on 250 random 20 way one-shot learning tasks ... \n",
            "\n",
            "Got an average of 80.8% 20 way one-shot learning accuracy \n",
            "\n",
            "\n",
            " ------------- \n",
            "\n",
            "Time for 14200 iterations: 31.656521761417387 mins\n",
            "Train Loss: 0.17366530001163483\n",
            "Evaluating model on 250 random 20 way one-shot learning tasks ... \n",
            "\n",
            "Got an average of 80.8% 20 way one-shot learning accuracy \n",
            "\n",
            "\n",
            " ------------- \n",
            "\n",
            "Time for 14400 iterations: 32.10544081926346 mins\n",
            "Train Loss: 0.1709238588809967\n",
            "Evaluating model on 250 random 20 way one-shot learning tasks ... \n",
            "\n",
            "Got an average of 78.4% 20 way one-shot learning accuracy \n",
            "\n",
            "\n",
            " ------------- \n",
            "\n",
            "Time for 14600 iterations: 32.552540417512255 mins\n",
            "Train Loss: 0.21535605192184448\n",
            "Evaluating model on 250 random 20 way one-shot learning tasks ... \n",
            "\n",
            "Got an average of 80.8% 20 way one-shot learning accuracy \n",
            "\n",
            "\n",
            " ------------- \n",
            "\n",
            "Time for 14800 iterations: 33.002589309215544 mins\n",
            "Train Loss: 0.377827912569046\n",
            "Evaluating model on 250 random 20 way one-shot learning tasks ... \n",
            "\n",
            "Got an average of 83.2% 20 way one-shot learning accuracy \n",
            "\n",
            "\n",
            " ------------- \n",
            "\n",
            "Time for 15000 iterations: 33.451191278298694 mins\n",
            "Train Loss: 0.20628981292247772\n",
            "Evaluating model on 250 random 20 way one-shot learning tasks ... \n",
            "\n",
            "Got an average of 80.8% 20 way one-shot learning accuracy \n",
            "\n",
            "\n",
            " ------------- \n",
            "\n",
            "Time for 15200 iterations: 33.90251578489939 mins\n",
            "Train Loss: 0.1471674144268036\n",
            "Evaluating model on 250 random 20 way one-shot learning tasks ... \n",
            "\n",
            "Got an average of 80.8% 20 way one-shot learning accuracy \n",
            "\n",
            "\n",
            " ------------- \n",
            "\n",
            "Time for 15400 iterations: 34.34728167851766 mins\n",
            "Train Loss: 0.23731771111488342\n",
            "Evaluating model on 250 random 20 way one-shot learning tasks ... \n",
            "\n",
            "Got an average of 82.4% 20 way one-shot learning accuracy \n",
            "\n",
            "\n",
            " ------------- \n",
            "\n",
            "Time for 15600 iterations: 34.79660493135452 mins\n",
            "Train Loss: 0.21436026692390442\n",
            "Evaluating model on 250 random 20 way one-shot learning tasks ... \n",
            "\n",
            "Got an average of 81.6% 20 way one-shot learning accuracy \n",
            "\n",
            "\n",
            " ------------- \n",
            "\n",
            "Time for 15800 iterations: 35.24594324032466 mins\n",
            "Train Loss: 0.18395939469337463\n",
            "Evaluating model on 250 random 20 way one-shot learning tasks ... \n",
            "\n",
            "Got an average of 80.0% 20 way one-shot learning accuracy \n",
            "\n",
            "\n",
            " ------------- \n",
            "\n",
            "Time for 16000 iterations: 35.69287273089091 mins\n",
            "Train Loss: 0.26588380336761475\n",
            "Evaluating model on 250 random 20 way one-shot learning tasks ... \n",
            "\n",
            "Got an average of 80.4% 20 way one-shot learning accuracy \n",
            "\n",
            "\n",
            " ------------- \n",
            "\n",
            "Time for 16200 iterations: 36.13640826145808 mins\n",
            "Train Loss: 0.17118442058563232\n",
            "Evaluating model on 250 random 20 way one-shot learning tasks ... \n",
            "\n",
            "Got an average of 83.2% 20 way one-shot learning accuracy \n",
            "\n",
            "\n",
            " ------------- \n",
            "\n",
            "Time for 16400 iterations: 36.58688715696335 mins\n",
            "Train Loss: 0.16083800792694092\n",
            "Evaluating model on 250 random 20 way one-shot learning tasks ... \n",
            "\n",
            "Got an average of 82.0% 20 way one-shot learning accuracy \n",
            "\n",
            "\n",
            " ------------- \n",
            "\n",
            "Time for 16600 iterations: 37.034076205889384 mins\n",
            "Train Loss: 0.2596246004104614\n",
            "Evaluating model on 250 random 20 way one-shot learning tasks ... \n",
            "\n",
            "Got an average of 81.2% 20 way one-shot learning accuracy \n",
            "\n",
            "\n",
            " ------------- \n",
            "\n",
            "Time for 16800 iterations: 37.48420519828797 mins\n",
            "Train Loss: 0.1846703290939331\n",
            "Evaluating model on 250 random 20 way one-shot learning tasks ... \n",
            "\n",
            "Got an average of 77.2% 20 way one-shot learning accuracy \n",
            "\n",
            "\n",
            " ------------- \n",
            "\n",
            "Time for 17000 iterations: 37.93247734705607 mins\n",
            "Train Loss: 0.17416298389434814\n",
            "Evaluating model on 250 random 20 way one-shot learning tasks ... \n",
            "\n",
            "Got an average of 78.8% 20 way one-shot learning accuracy \n",
            "\n",
            "\n",
            " ------------- \n",
            "\n",
            "Time for 17200 iterations: 38.38330219984054 mins\n",
            "Train Loss: 0.3190046548843384\n",
            "Evaluating model on 250 random 20 way one-shot learning tasks ... \n",
            "\n",
            "Got an average of 80.4% 20 way one-shot learning accuracy \n",
            "\n",
            "\n",
            " ------------- \n",
            "\n",
            "Time for 17400 iterations: 38.83101712067922 mins\n",
            "Train Loss: 0.17787644267082214\n",
            "Evaluating model on 250 random 20 way one-shot learning tasks ... \n",
            "\n",
            "Got an average of 76.0% 20 way one-shot learning accuracy \n",
            "\n",
            "\n",
            " ------------- \n",
            "\n",
            "Time for 17600 iterations: 39.28084468046824 mins\n",
            "Train Loss: 0.19600079953670502\n",
            "Evaluating model on 250 random 20 way one-shot learning tasks ... \n",
            "\n",
            "Got an average of 80.0% 20 way one-shot learning accuracy \n",
            "\n",
            "\n",
            " ------------- \n",
            "\n",
            "Time for 17800 iterations: 39.72537109057109 mins\n",
            "Train Loss: 0.16549454629421234\n",
            "Evaluating model on 250 random 20 way one-shot learning tasks ... \n",
            "\n",
            "Got an average of 82.4% 20 way one-shot learning accuracy \n",
            "\n",
            "\n",
            " ------------- \n",
            "\n",
            "Time for 18000 iterations: 40.17320181131363 mins\n",
            "Train Loss: 0.17881399393081665\n",
            "Evaluating model on 250 random 20 way one-shot learning tasks ... \n",
            "\n",
            "Got an average of 82.8% 20 way one-shot learning accuracy \n",
            "\n",
            "\n",
            " ------------- \n",
            "\n",
            "Time for 18200 iterations: 40.620315905412035 mins\n",
            "Train Loss: 0.16263052821159363\n",
            "Evaluating model on 250 random 20 way one-shot learning tasks ... \n",
            "\n",
            "Got an average of 80.4% 20 way one-shot learning accuracy \n",
            "\n",
            "\n",
            " ------------- \n",
            "\n",
            "Time for 18400 iterations: 41.067636624972025 mins\n",
            "Train Loss: 0.14848187565803528\n",
            "Evaluating model on 250 random 20 way one-shot learning tasks ... \n",
            "\n",
            "Got an average of 82.4% 20 way one-shot learning accuracy \n",
            "\n",
            "\n",
            " ------------- \n",
            "\n",
            "Time for 18600 iterations: 41.51437776486079 mins\n",
            "Train Loss: 0.15378496050834656\n",
            "Evaluating model on 250 random 20 way one-shot learning tasks ... \n",
            "\n",
            "Got an average of 83.2% 20 way one-shot learning accuracy \n",
            "\n",
            "\n",
            " ------------- \n",
            "\n",
            "Time for 18800 iterations: 41.96554997762044 mins\n",
            "Train Loss: 0.13368482887744904\n",
            "Evaluating model on 250 random 20 way one-shot learning tasks ... \n",
            "\n",
            "Got an average of 78.0% 20 way one-shot learning accuracy \n",
            "\n",
            "\n",
            " ------------- \n",
            "\n",
            "Time for 19000 iterations: 42.412320764859516 mins\n",
            "Train Loss: 0.14723235368728638\n",
            "Evaluating model on 250 random 20 way one-shot learning tasks ... \n",
            "\n",
            "Got an average of 80.4% 20 way one-shot learning accuracy \n",
            "\n",
            "\n",
            " ------------- \n",
            "\n",
            "Time for 19200 iterations: 42.8609507838885 mins\n",
            "Train Loss: 0.2035273015499115\n",
            "Evaluating model on 250 random 20 way one-shot learning tasks ... \n",
            "\n",
            "Got an average of 81.2% 20 way one-shot learning accuracy \n",
            "\n",
            "\n",
            " ------------- \n",
            "\n",
            "Time for 19400 iterations: 43.31180563370387 mins\n",
            "Train Loss: 0.18587106466293335\n",
            "Evaluating model on 250 random 20 way one-shot learning tasks ... \n",
            "\n",
            "Got an average of 80.0% 20 way one-shot learning accuracy \n",
            "\n",
            "\n",
            " ------------- \n",
            "\n",
            "Time for 19600 iterations: 43.76771302223206 mins\n",
            "Train Loss: 0.15623973309993744\n",
            "Evaluating model on 250 random 20 way one-shot learning tasks ... \n",
            "\n",
            "Got an average of 85.2% 20 way one-shot learning accuracy \n",
            "\n",
            "Current best: 85.2, previous best: 84.4\n",
            "\n",
            " ------------- \n",
            "\n",
            "Time for 19800 iterations: 44.216167291005455 mins\n",
            "Train Loss: 0.1582830548286438\n",
            "Evaluating model on 250 random 20 way one-shot learning tasks ... \n",
            "\n",
            "Got an average of 78.8% 20 way one-shot learning accuracy \n",
            "\n",
            "\n",
            " ------------- \n",
            "\n",
            "Time for 20000 iterations: 44.6663303176562 mins\n",
            "Train Loss: 0.26651930809020996\n",
            "Evaluating model on 250 random 20 way one-shot learning tasks ... \n",
            "\n",
            "Got an average of 82.0% 20 way one-shot learning accuracy \n",
            "\n"
          ],
          "name": "stdout"
        }
      ]
    },
    {
      "cell_type": "markdown",
      "metadata": {
        "id": "AW_gFOU0Ph9G"
      },
      "source": [
        "### Load model weights"
      ]
    },
    {
      "cell_type": "code",
      "metadata": {
        "id": "596evBkxPh9H"
      },
      "source": [
        "model.load_weights(os.path.join(model_path, \"weights.20000.h5\"))"
      ],
      "execution_count": 51,
      "outputs": []
    },
    {
      "cell_type": "markdown",
      "metadata": {
        "id": "V5jpFvoWPh9I"
      },
      "source": [
        "### Testing"
      ]
    },
    {
      "cell_type": "code",
      "metadata": {
        "id": "8sBLjkCWPh9Q"
      },
      "source": [
        "ways = np.arange(1,20,2)\n",
        "trials = 50"
      ],
      "execution_count": 52,
      "outputs": []
    },
    {
      "cell_type": "code",
      "metadata": {
        "id": "PVXAFzGJPh9T",
        "outputId": "bf7ad159-b566-4180-d138-d35637568882",
        "colab": {
          "base_uri": "https://localhost:8080/"
        }
      },
      "source": [
        "val_accs, train_accs = [], []\n",
        "for N in ways:    \n",
        "    val_accs.append(test_oneshot(model, N, trials, \"val\", verbose=True))\n",
        "    train_accs.append(test_oneshot(model, N, trials, \"train\", verbose=True))\n",
        "    print(\"---------------------------------------------------------------------------------------------------------------\")"
      ],
      "execution_count": 53,
      "outputs": [
        {
          "output_type": "stream",
          "text": [
            "Evaluating model on 50 random 1 way one-shot learning tasks ... \n",
            "\n",
            "Got an average of 100.0% 1 way one-shot learning accuracy \n",
            "\n",
            "Evaluating model on 50 random 1 way one-shot learning tasks ... \n",
            "\n",
            "Got an average of 100.0% 1 way one-shot learning accuracy \n",
            "\n",
            "---------------------------------------------------------------------------------------------------------------\n",
            "Evaluating model on 50 random 3 way one-shot learning tasks ... \n",
            "\n",
            "Got an average of 96.0% 3 way one-shot learning accuracy \n",
            "\n",
            "Evaluating model on 50 random 3 way one-shot learning tasks ... \n",
            "\n",
            "Got an average of 100.0% 3 way one-shot learning accuracy \n",
            "\n",
            "---------------------------------------------------------------------------------------------------------------\n",
            "Evaluating model on 50 random 5 way one-shot learning tasks ... \n",
            "\n",
            "Got an average of 100.0% 5 way one-shot learning accuracy \n",
            "\n",
            "Evaluating model on 50 random 5 way one-shot learning tasks ... \n",
            "\n",
            "Got an average of 100.0% 5 way one-shot learning accuracy \n",
            "\n",
            "---------------------------------------------------------------------------------------------------------------\n",
            "Evaluating model on 50 random 7 way one-shot learning tasks ... \n",
            "\n",
            "Got an average of 96.0% 7 way one-shot learning accuracy \n",
            "\n",
            "Evaluating model on 50 random 7 way one-shot learning tasks ... \n",
            "\n",
            "Got an average of 98.0% 7 way one-shot learning accuracy \n",
            "\n",
            "---------------------------------------------------------------------------------------------------------------\n",
            "Evaluating model on 50 random 9 way one-shot learning tasks ... \n",
            "\n",
            "Got an average of 90.0% 9 way one-shot learning accuracy \n",
            "\n",
            "Evaluating model on 50 random 9 way one-shot learning tasks ... \n",
            "\n",
            "Got an average of 98.0% 9 way one-shot learning accuracy \n",
            "\n",
            "---------------------------------------------------------------------------------------------------------------\n",
            "Evaluating model on 50 random 11 way one-shot learning tasks ... \n",
            "\n",
            "Got an average of 94.0% 11 way one-shot learning accuracy \n",
            "\n",
            "Evaluating model on 50 random 11 way one-shot learning tasks ... \n",
            "\n",
            "Got an average of 98.0% 11 way one-shot learning accuracy \n",
            "\n",
            "---------------------------------------------------------------------------------------------------------------\n",
            "Evaluating model on 50 random 13 way one-shot learning tasks ... \n",
            "\n",
            "Got an average of 84.0% 13 way one-shot learning accuracy \n",
            "\n",
            "Evaluating model on 50 random 13 way one-shot learning tasks ... \n",
            "\n",
            "Got an average of 96.0% 13 way one-shot learning accuracy \n",
            "\n",
            "---------------------------------------------------------------------------------------------------------------\n",
            "Evaluating model on 50 random 15 way one-shot learning tasks ... \n",
            "\n",
            "Got an average of 90.0% 15 way one-shot learning accuracy \n",
            "\n",
            "Evaluating model on 50 random 15 way one-shot learning tasks ... \n",
            "\n",
            "Got an average of 94.0% 15 way one-shot learning accuracy \n",
            "\n",
            "---------------------------------------------------------------------------------------------------------------\n",
            "Evaluating model on 50 random 17 way one-shot learning tasks ... \n",
            "\n",
            "Got an average of 80.0% 17 way one-shot learning accuracy \n",
            "\n",
            "Evaluating model on 50 random 17 way one-shot learning tasks ... \n",
            "\n",
            "Got an average of 94.0% 17 way one-shot learning accuracy \n",
            "\n",
            "---------------------------------------------------------------------------------------------------------------\n",
            "Evaluating model on 50 random 19 way one-shot learning tasks ... \n",
            "\n",
            "Got an average of 86.0% 19 way one-shot learning accuracy \n",
            "\n",
            "Evaluating model on 50 random 19 way one-shot learning tasks ... \n",
            "\n",
            "Got an average of 94.0% 19 way one-shot learning accuracy \n",
            "\n",
            "---------------------------------------------------------------------------------------------------------------\n"
          ],
          "name": "stdout"
        }
      ]
    },
    {
      "cell_type": "markdown",
      "metadata": {
        "id": "voqtETauPh9W"
      },
      "source": [
        "### Save the accuracies on disk"
      ]
    },
    {
      "cell_type": "code",
      "metadata": {
        "id": "_ce4KkouPh9X"
      },
      "source": [
        "with open(os.path.join(save_path,\"accuracies.pickle\"), \"wb\") as f:\n",
        "    pickle.dump((val_accs,train_accs),f)"
      ],
      "execution_count": 54,
      "outputs": []
    },
    {
      "cell_type": "markdown",
      "metadata": {
        "id": "2JVzgzJ0Ph9Z"
      },
      "source": [
        "### Load the accuracies from disk"
      ]
    },
    {
      "cell_type": "code",
      "metadata": {
        "id": "w2gjQPGpPh9a"
      },
      "source": [
        "with open(os.path.join(save_path, \"accuracies.pickle\"), \"rb\") as f:\n",
        "    (val_accs, train_accs) = pickle.load(f)"
      ],
      "execution_count": 55,
      "outputs": []
    },
    {
      "cell_type": "markdown",
      "metadata": {
        "id": "vcqy4StUPh9b"
      },
      "source": [
        "### Below two functions are used for visualizing test image and support set"
      ]
    },
    {
      "cell_type": "code",
      "metadata": {
        "id": "ju6ECIc_Ph9c"
      },
      "source": [
        "def concat_images(X):\n",
        "    \"\"\"\n",
        "    Concatenates a bunch of images into a big matrix for plotting purposes.\n",
        "    \"\"\"\n",
        "    nc, h , w, _ = X.shape\n",
        "    X = X.reshape(nc, h, w)\n",
        "    n = np.ceil(np.sqrt(nc)).astype(\"int8\")\n",
        "    img = np.zeros((n*w,n*h))\n",
        "    x = 0\n",
        "    y = 0\n",
        "    for example in range(nc):\n",
        "        img[x*w:(x+1)*w,y*h:(y+1)*h] = X[example]\n",
        "        y += 1\n",
        "        if y >= n:\n",
        "            y = 0\n",
        "            x += 1\n",
        "    return img"
      ],
      "execution_count": 56,
      "outputs": []
    },
    {
      "cell_type": "code",
      "metadata": {
        "id": "EEK81GYDPh9e"
      },
      "source": [
        "def plot_oneshot_task(pairs):\n",
        "    fig,(ax1,ax2) = plt.subplots(nrows=1, ncols=2)\n",
        "    ax1.matshow(pairs[0][0].reshape(105,105), cmap='gray')\n",
        "    img = concat_images(pairs[1])\n",
        "    ax1.get_yaxis().set_visible(False)\n",
        "    ax1.get_xaxis().set_visible(False)\n",
        "    ax2.matshow(img,cmap='gray')\n",
        "    plt.xticks([])\n",
        "    plt.yticks([])\n",
        "    plt.show()"
      ],
      "execution_count": 57,
      "outputs": []
    },
    {
      "cell_type": "code",
      "metadata": {
        "id": "9BYxcBUNPh9h",
        "outputId": "f3f859d2-b7c9-466b-a9ee-5c15d1838707",
        "colab": {
          "base_uri": "https://localhost:8080/",
          "height": 190
        }
      },
      "source": [
        "# Example of concat image visualization\n",
        "pairs, targets = make_oneshot_task(16,\"train\",\"Sanskrit\")\n",
        "plot_oneshot_task(pairs)"
      ],
      "execution_count": 58,
      "outputs": [
        {
          "output_type": "display_data",
          "data": {
            "image/png": "[encoded data removed]",
            "text/plain": [
              "<Figure size 432x288 with 2 Axes>"
            ]
          },
          "metadata": {
            "tags": [],
            "needs_background": "light"
          }
        }
      ]
    },
    {
      "cell_type": "markdown",
      "metadata": {
        "id": "IyshEnsDPh9j"
      },
      "source": [
        "### Resuts"
      ]
    },
    {
      "cell_type": "code",
      "metadata": {
        "id": "mZNXmnYBPh9j",
        "outputId": "08795351-aaa8-4b6e-ba17-c8779d461136",
        "colab": {
          "base_uri": "https://localhost:8080/",
          "height": 468
        }
      },
      "source": [
        "fig,ax = plt.subplots(1)\n",
        "ax.plot(ways, val_accs, \"m\", label=\"Siamese(val set)\")\n",
        "ax.plot(ways, train_accs, \"y\", label=\"Siamese(train set)\")\n",
        "plt.xlabel(\"Number of possible classes in one-shot tasks\")\n",
        "plt.ylabel(\"% Accuracy\")\n",
        "plt.title(\"Omiglot One-Shot Learning Performance of a Siamese Network\")\n",
        "box = ax.get_position()\n",
        "ax.set_position([box.x0, box.y0, box.width * 0.8, box.height])\n",
        "ax.legend(loc='center left', bbox_to_anchor=(1, 0.5))\n",
        "inputs,targets = make_oneshot_task(20, \"val\", 'Oriya')\n",
        "plt.show()\n",
        "\n",
        "plot_oneshot_task(inputs)"
      ],
      "execution_count": 59,
      "outputs": [
        {
          "output_type": "display_data",
          "data": {
            "image/png": "[encoded data removed]",
            "text/plain": [
              "<Figure size 432x288 with 1 Axes>"
            ]
          },
          "metadata": {
            "tags": [],
            "needs_background": "light"
          }
        },
        {
          "output_type": "display_data",
          "data": {
            "image/png": "[encoded data removed]",
            "text/plain": [
              "<Figure size 432x288 with 2 Axes>"
            ]
          },
          "metadata": {
            "tags": [],
            "needs_background": "light"
          }
        }
      ]
    },
    {
      "cell_type": "code",
      "metadata": {
        "id": "_E3-lTdyPh9l",
        "outputId": "f5b0b271-caf6-4085-9d82-4a5142960c60",
        "colab": {
          "base_uri": "https://localhost:8080/"
        }
      },
      "source": [
        "#Accuracy\n",
        "sum(val_accs)/len(val_accs)"
      ],
      "execution_count": 60,
      "outputs": [
        {
          "output_type": "execute_result",
          "data": {
            "text/plain": [
              "91.6"
            ]
          },
          "metadata": {
            "tags": []
          },
          "execution_count": 60
        }
      ]
    }
  ]
}